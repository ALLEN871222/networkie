{
 "cells": [
  {
   "cell_type": "markdown",
   "metadata": {},
   "source": [
    "# Table of Contents\n",
    "* [Overview](#Overview)\n",
    "\t* [Prepare](#Prepare)\n",
    "\t* [Links](#Links)\n",
    "\t* [This tutorial](#This-tutorial)"
   ]
  },
  {
   "cell_type": "markdown",
   "metadata": {},
   "source": [
    "# Overview"
   ]
  },
  {
   "cell_type": "markdown",
   "metadata": {},
   "source": [
    "Introduction to data engineering workflows for undergraduates.\n",
    "\n",
    "The modules are organized as follows\n",
    "\n",
    "*  **gen:**  Synthetic network data generation via various models.\n",
    "   Current implementation includes `Erdős–Rényi model` and `Gaussian mixture model`.\n",
    "*  **partition:** Graph partitioning via various methods.\n",
    "*  **transform:** Network data transformation between various formats.\n",
    "   Current implementation includes transformation between the plain text `edgelist` file and the Numpy.ndarray `matrix` format.\n",
    "*  **viz:** Network visualization module.\n",
    "*  **data:** Network dataset for the project.  "
   ]
  }
 ],
 "metadata": {
  "kernelspec": {
   "display_name": "Python 3",
   "language": "python",
   "name": "python3"
  },
  "language_info": {
   "codemirror_mode": {
    "name": "ipython",
    "version": 3
   },
   "file_extension": ".py",
   "mimetype": "text/x-python",
   "name": "python",
   "nbconvert_exporter": "python",
   "pygments_lexer": "ipython3",
   "version": "3.6.5"
  }
 },
 "nbformat": 4,
 "nbformat_minor": 2
}
